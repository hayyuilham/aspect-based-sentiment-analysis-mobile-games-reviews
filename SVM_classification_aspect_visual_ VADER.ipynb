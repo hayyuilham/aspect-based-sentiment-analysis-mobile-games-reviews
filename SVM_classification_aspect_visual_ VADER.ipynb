{
  "cells": [
    {
      "cell_type": "markdown",
      "metadata": {
        "id": "cDXO7lXfisvV"
      },
      "source": [
        "### Import Library"
      ]
    },
    {
      "cell_type": "code",
      "execution_count": 1,
      "metadata": {
        "colab": {
          "base_uri": "https://localhost:8080/"
        },
        "id": "xzTRGEv-b8pT",
        "outputId": "6f555d49-86c3-494d-b18f-10a5bf5cd63e"
      },
      "outputs": [],
      "source": [
        "# from google.colab import drive\n",
        "# drive.mount(\"/content/drive/\")"
      ]
    },
    {
      "cell_type": "code",
      "execution_count": 2,
      "metadata": {
        "id": "0ZnggLWeb4y0"
      },
      "outputs": [],
      "source": [
        "import pandas as pd\n",
        "import matplotlib.pyplot as plt\n",
        "import numpy as np"
      ]
    },
    {
      "cell_type": "code",
      "execution_count": 3,
      "metadata": {
        "id": "ExlW0boskuoz"
      },
      "outputs": [],
      "source": [
        "from sklearn import feature_extraction, model_selection, pipeline, manifold, preprocessing\n",
        "from sklearn.feature_extraction.text import TfidfVectorizer, CountVectorizer\n",
        "from sklearn.preprocessing import normalize\n",
        "from sklearn.metrics import classification_report, accuracy_score, confusion_matrix, classification_report, ConfusionMatrixDisplay\n",
        "from sklearn import naive_bayes, svm\n",
        "from sklearn.pipeline import Pipeline\n",
        "from sklearn.model_selection import  cross_val_score\n",
        "import seaborn as sns"
      ]
    },
    {
      "cell_type": "code",
      "execution_count": 4,
      "metadata": {
        "id": "-IGxlgeC6Gx-"
      },
      "outputs": [],
      "source": [
        "import pickle"
      ]
    },
    {
      "cell_type": "markdown",
      "metadata": {
        "id": "OHOHBWFcClpb"
      },
      "source": [
        "### Import Dataset"
      ]
    },
    {
      "cell_type": "code",
      "execution_count": 5,
      "metadata": {
        "id": "M7QO92YJ1alP"
      },
      "outputs": [],
      "source": [
        "# test_df = pd.read_pickle('/content/drive/MyDrive/Tesis/saved_data/data_with_label_up2.pkl')"
      ]
    },
    {
      "cell_type": "code",
      "execution_count": 6,
      "metadata": {
        "id": "ZdPv_kfM1k9d"
      },
      "outputs": [],
      "source": [
        "# test_df_visual = test_df[test_df['aspect_entity'].map(lambda x: 'visual' in x)]\n",
        "# len(test_df_visual)"
      ]
    },
    {
      "cell_type": "code",
      "execution_count": 7,
      "metadata": {
        "id": "mYgLNyAC12pk"
      },
      "outputs": [],
      "source": [
        "# test_df_visual.head()"
      ]
    },
    {
      "cell_type": "code",
      "execution_count": 8,
      "metadata": {
        "id": "V0Uyu5YXYgmT"
      },
      "outputs": [],
      "source": [
        "# df_review = pd.read_pickle('C:/Users/Sistem Cerdas Two/Downloads/run actor/segmentasi_sentimen_up2.pkl')"
      ]
    },
    {
      "cell_type": "code",
      "execution_count": 9,
      "metadata": {},
      "outputs": [],
      "source": [
        "df_review = pd.read_pickle('D:/s2 ugm/tesis/program/run/segmentasi_sentimen_up2.pkl')"
      ]
    },
    {
      "cell_type": "code",
      "execution_count": 10,
      "metadata": {
        "id": "XTmIu-QHZzo-"
      },
      "outputs": [],
      "source": [
        "df_review = df_review.reset_index(drop=True)"
      ]
    },
    {
      "cell_type": "code",
      "execution_count": 11,
      "metadata": {
        "colab": {
          "base_uri": "https://localhost:8080/",
          "height": 658
        },
        "id": "Ut-UnFXBBndI",
        "outputId": "7833f997-2388-404d-b7fd-a580daf2f852"
      },
      "outputs": [],
      "source": [
        "# df_review"
      ]
    },
    {
      "cell_type": "code",
      "execution_count": 12,
      "metadata": {
        "id": "gXKfBfR0aZbJ"
      },
      "outputs": [],
      "source": [
        "df_sentiment_analysis = df_review[[\"clean_content\",\"aspect_entity\",\"sentiment\"]]"
      ]
    },
    {
      "cell_type": "code",
      "execution_count": 13,
      "metadata": {
        "colab": {
          "base_uri": "https://localhost:8080/",
          "height": 206
        },
        "id": "_1m5w2jRaa6X",
        "outputId": "f481cab4-fe5f-4213-c4e1-23f71550cd89"
      },
      "outputs": [
        {
          "data": {
            "text/html": [
              "<div>\n",
              "<style scoped>\n",
              "    .dataframe tbody tr th:only-of-type {\n",
              "        vertical-align: middle;\n",
              "    }\n",
              "\n",
              "    .dataframe tbody tr th {\n",
              "        vertical-align: top;\n",
              "    }\n",
              "\n",
              "    .dataframe thead th {\n",
              "        text-align: right;\n",
              "    }\n",
              "</style>\n",
              "<table border=\"1\" class=\"dataframe\">\n",
              "  <thead>\n",
              "    <tr style=\"text-align: right;\">\n",
              "      <th></th>\n",
              "      <th>clean_content</th>\n",
              "      <th>aspect_entity</th>\n",
              "      <th>sentiment</th>\n",
              "    </tr>\n",
              "  </thead>\n",
              "  <tbody>\n",
              "    <tr>\n",
              "      <th>0</th>\n",
              "      <td>like game alot game control smooth game run sm...</td>\n",
              "      <td>{GAMEPLAY, VISUAL}</td>\n",
              "      <td>positive</td>\n",
              "    </tr>\n",
              "    <tr>\n",
              "      <th>1</th>\n",
              "      <td>game well mobile game but game problem first m...</td>\n",
              "      <td>{GAMEPLAY}</td>\n",
              "      <td>positive</td>\n",
              "    </tr>\n",
              "    <tr>\n",
              "      <th>2</th>\n",
              "      <td>game great matchmake pretty terrible but main ...</td>\n",
              "      <td>{GAMEPLAY}</td>\n",
              "      <td>Negative</td>\n",
              "    </tr>\n",
              "    <tr>\n",
              "      <th>3</th>\n",
              "      <td>beyond hooked game much strategy definitely p...</td>\n",
              "      <td>{ACTOR}</td>\n",
              "      <td>positive</td>\n",
              "    </tr>\n",
              "    <tr>\n",
              "      <th>4</th>\n",
              "      <td>play game since got release think there probl...</td>\n",
              "      <td>{GAMEPLAY}</td>\n",
              "      <td>positive</td>\n",
              "    </tr>\n",
              "  </tbody>\n",
              "</table>\n",
              "</div>"
            ],
            "text/plain": [
              "                                       clean_content       aspect_entity  \\\n",
              "0  like game alot game control smooth game run sm...  {GAMEPLAY, VISUAL}   \n",
              "1  game well mobile game but game problem first m...          {GAMEPLAY}   \n",
              "2  game great matchmake pretty terrible but main ...          {GAMEPLAY}   \n",
              "3   beyond hooked game much strategy definitely p...             {ACTOR}   \n",
              "4   play game since got release think there probl...          {GAMEPLAY}   \n",
              "\n",
              "  sentiment  \n",
              "0  positive  \n",
              "1  positive  \n",
              "2  Negative  \n",
              "3  positive  \n",
              "4  positive  "
            ]
          },
          "execution_count": 13,
          "metadata": {},
          "output_type": "execute_result"
        }
      ],
      "source": [
        "df_sentiment_analysis.head()"
      ]
    },
    {
      "cell_type": "code",
      "execution_count": 14,
      "metadata": {
        "id": "KDaAIx9Ee3Y7"
      },
      "outputs": [],
      "source": [
        "items_aspect = [] \n",
        "for i in df_sentiment_analysis['aspect_entity']:\n",
        "  for j in i:\n",
        "    items_aspect.append(j) "
      ]
    },
    {
      "cell_type": "code",
      "execution_count": 15,
      "metadata": {
        "colab": {
          "base_uri": "https://localhost:8080/",
          "height": 430
        },
        "id": "hu5Zv02ae92C",
        "outputId": "5c29c3ca-dfa8-46c6-dc13-89c1b9ab5cc2"
      },
      "outputs": [],
      "source": [
        "# ax = plt.hist(items_aspect)\n",
        "# plt.show()"
      ]
    },
    {
      "cell_type": "markdown",
      "metadata": {
        "id": "-OVxD9jEZ57_"
      },
      "source": [
        "### Aspects Mobile Game Quality model"
      ]
    },
    {
      "cell_type": "code",
      "execution_count": 16,
      "metadata": {
        "id": "6XDe2tfznM1X"
      },
      "outputs": [],
      "source": [
        "df_sentiment_visual = df_sentiment_analysis[df_sentiment_analysis['aspect_entity'].map(lambda x: 'VISUAL' in x)]"
      ]
    },
    {
      "cell_type": "code",
      "execution_count": 17,
      "metadata": {
        "colab": {
          "base_uri": "https://localhost:8080/"
        },
        "id": "YyfzCv6fnOvg",
        "outputId": "ebcfc192-4d3c-4fd7-af15-4506481c0816"
      },
      "outputs": [
        {
          "data": {
            "text/plain": [
              "positive    14149\n",
              "Negative     3634\n",
              "Neutral       336\n",
              "Name: sentiment, dtype: int64"
            ]
          },
          "execution_count": 17,
          "metadata": {},
          "output_type": "execute_result"
        }
      ],
      "source": [
        "sentimen_visual_counts = df_sentiment_visual['sentiment'].value_counts()\n",
        "sentimen_visual_counts"
      ]
    },
    {
      "cell_type": "code",
      "execution_count": 18,
      "metadata": {
        "colab": {
          "base_uri": "https://localhost:8080/"
        },
        "id": "51jVX7i32o_y",
        "outputId": "83fefc84-d8a6-4898-9551-3da59fd4eeaf"
      },
      "outputs": [
        {
          "data": {
            "text/plain": [
              "18119"
            ]
          },
          "execution_count": 18,
          "metadata": {},
          "output_type": "execute_result"
        }
      ],
      "source": [
        "len(df_sentiment_visual)"
      ]
    },
    {
      "cell_type": "code",
      "execution_count": 19,
      "metadata": {
        "colab": {
          "base_uri": "https://localhost:8080/",
          "height": 406
        },
        "id": "g48dPX9M8--u",
        "outputId": "a1d14cc6-4ab0-40b0-96dc-9ace2819eb43"
      },
      "outputs": [
        {
          "data": {
            "image/png": "[encoded data removed]",
            "text/plain": [
              "<Figure size 640x480 with 1 Axes>"
            ]
          },
          "metadata": {},
          "output_type": "display_data"
        }
      ],
      "source": [
        "# Class Imbalance Check\n",
        "plt.pie(df_sentiment_visual['sentiment'].value_counts().sort_index(ascending=True), \n",
        "        labels=['Label 0 (Negative Sentiment)', 'Label 1 (Neutral Sentiment)', 'Label 2 (Positive Sentiment)'], \n",
        "        autopct='%0.1f%%')\n",
        "plt.axis('equal')\n",
        "plt.show()"
      ]
    },
    {
      "cell_type": "markdown",
      "metadata": {
        "id": "I5KkQFmRZ4Hj"
      },
      "source": [
        "### Split data for train and test"
      ]
    },
    {
      "cell_type": "code",
      "execution_count": 20,
      "metadata": {
        "colab": {
          "base_uri": "https://localhost:8080/"
        },
        "id": "UYozYUsJ0GN3",
        "outputId": "559c9744-b555-486e-b696-2e26746f812a"
      },
      "outputs": [
        {
          "name": "stdout",
          "output_type": "stream",
          "text": [
            "(14495,) (3624,) (14495,) (3624,)\n"
          ]
        }
      ],
      "source": [
        "# Train-Test Splitting\n",
        "X = df_sentiment_visual['clean_content']\n",
        "Y = df_sentiment_visual['sentiment']\n",
        "# test_visual_review = test_df_visual\n",
        "\n",
        "# Dictionary mapping\n",
        "mapping = {'positive': 2, 'Neutral': 1, 'Negative': 0}\n",
        "\n",
        "Y = Y.map(mapping)\n",
        "\n",
        "x_train, x_test, y_train, y_test = model_selection.train_test_split(X, Y, test_size=0.2, stratify=Y)\n",
        "print(x_train.shape, x_test.shape, y_train.shape, y_test.shape)\n",
        "# print(X.shape, test_visual_review.shape, Y.shape)"
      ]
    },
    {
      "cell_type": "markdown",
      "metadata": {
        "id": "qRtW6ypnaLxO"
      },
      "source": [
        "### TF-IDF feature extraction"
      ]
    },
    {
      "cell_type": "code",
      "execution_count": 21,
      "metadata": {},
      "outputs": [],
      "source": [
        "from sklearn.feature_extraction.text import TfidfVectorizer, CountVectorizer\n",
        "from sklearn.preprocessing import normalize\n",
        "\n",
        "# calc TF vector\n",
        "cvect = CountVectorizer()\n",
        "TF_vector = cvect.fit_transform(x_train)\n",
        "\n",
        "# normalize TF vector\n",
        "normalized_TF_vector = normalize(TF_vector, norm='l1', axis=1)\n",
        "\n",
        "# calc IDF\n",
        "idf_vec = TfidfVectorizer(smooth_idf=False)\n",
        "idf_calc = idf_vec.fit(x_train)\n",
        "IDF_vector = idf_vec.idf_\n",
        "\n",
        "# hitung TF x IDF sehingga dihasilkan TFIDF matrix / vector\n",
        "tfidf_vector = normalized_TF_vector.multiply(IDF_vector)\n",
        "tfidf_mat = normalized_TF_vector.multiply(IDF_vector).todense()\n",
        "\n",
        "# tfidf_mat\n",
        "\n",
        "# print(normalized_TF_vector)\n",
        "\n",
        "# print(tfidf_vector)\n",
        "\n",
        "# feature_names = idf_calc.vocabulary_\n",
        "# feature_names\n",
        "\n",
        "# tfidf_df = pd.DataFrame(idf_calc.fit_transform(x_train).todense())\n",
        "# tfidf_df.columns = idf_calc.vocabulary_\n",
        "# # tfidf_df\n",
        "\n",
        "tfidf_df_test = pd.DataFrame(idf_calc.transform(x_test).todense())\n",
        "tfidf_df_test.columns = idf_calc.vocabulary_\n",
        "# tfidf_df_test"
      ]
    },
    {
      "cell_type": "code",
      "execution_count": 22,
      "metadata": {
        "id": "_f5epQL6bNAf"
      },
      "outputs": [],
      "source": [
        "# # normalize TF vector\n",
        "# normalized_TF_vector = normalize(TF_vector, norm='l1', axis=1)\n",
        "\n",
        "# # calc IDF\n",
        "# idf_vec = TfidfVectorizer(smooth_idf=False)\n",
        "# idf_calc = idf_vec.fit(x_train)\n",
        "# IDF_vector = idf_vec.idf_\n",
        "\n",
        "# # hitung TF x IDF sehingga dihasilkan TFIDF matrix / vector\n",
        "# tfidf_vector = normalized_TF_vector.multiply(IDF_vector)\n",
        "# tfidf_mat = normalized_TF_vector.multiply(IDF_vector).todense()"
      ]
    },
    {
      "cell_type": "code",
      "execution_count": 23,
      "metadata": {
        "colab": {
          "base_uri": "https://localhost:8080/"
        },
        "id": "c7PvfPVUbsdM",
        "outputId": "a2546b2e-d16f-4feb-9dcc-3db588da7787"
      },
      "outputs": [],
      "source": [
        "# tfidf_mat"
      ]
    },
    {
      "cell_type": "code",
      "execution_count": 24,
      "metadata": {
        "colab": {
          "base_uri": "https://localhost:8080/"
        },
        "id": "3WJNMOsubvJ6",
        "outputId": "1b697de9-ef95-4fd7-8868-b2aa0208883c"
      },
      "outputs": [],
      "source": [
        "# print(normalized_TF_vector)"
      ]
    },
    {
      "cell_type": "code",
      "execution_count": 25,
      "metadata": {
        "colab": {
          "base_uri": "https://localhost:8080/"
        },
        "id": "uJL63BFKbyml",
        "outputId": "13143175-70c0-45f6-f47b-1243269aa26c"
      },
      "outputs": [],
      "source": [
        "# print(tfidf_vector)"
      ]
    },
    {
      "cell_type": "code",
      "execution_count": 26,
      "metadata": {
        "colab": {
          "base_uri": "https://localhost:8080/"
        },
        "id": "ZFQgt7jSb37r",
        "outputId": "99fc6d1f-c216-419c-91f3-62cd6573b8af"
      },
      "outputs": [],
      "source": [
        "# feature_names = idf_calc.vocabulary_\n",
        "# feature_names"
      ]
    },
    {
      "cell_type": "code",
      "execution_count": 27,
      "metadata": {
        "colab": {
          "base_uri": "https://localhost:8080/",
          "height": 487
        },
        "id": "FtnxlRhCb74Z",
        "outputId": "514f742f-4c5a-43cc-b611-998ee45a4977"
      },
      "outputs": [],
      "source": [
        "# tfidf_df = pd.DataFrame(idf_calc.fit_transform(x_train).todense())\n",
        "# tfidf_df.columns = idf_calc.vocabulary_\n",
        "# # tfidf_df"
      ]
    },
    {
      "cell_type": "code",
      "execution_count": 28,
      "metadata": {
        "colab": {
          "base_uri": "https://localhost:8080/",
          "height": 487
        },
        "id": "-e7mV39yfJuw",
        "outputId": "a38aca2b-592b-4021-b2d0-ceb12f932ca0"
      },
      "outputs": [],
      "source": [
        "# tfidf_df_test = pd.DataFrame(TF_vector.transform(x_test).todense())\n",
        "# tfidf_df_test.columns = TF_vector.vocabulary_\n",
        "# # tfidf_df_test"
      ]
    },
    {
      "cell_type": "code",
      "execution_count": 29,
      "metadata": {
        "colab": {
          "base_uri": "https://localhost:8080/"
        },
        "id": "XPxbiviXeIB9",
        "outputId": "396316b3-cd3b-4f8b-ca98-c1bccd0b8bac"
      },
      "outputs": [],
      "source": [
        "# print(tfidf_df.shape, tfidf_df_test.shape)"
      ]
    },
    {
      "cell_type": "code",
      "execution_count": 30,
      "metadata": {
        "id": "cN1XJI2Ccqx5"
      },
      "outputs": [],
      "source": [
        "# X_tfidf = pd.DataFrame(idf_calc.fit_transform(X).todense())\n",
        "# test_tfidf = pd.DataFrame(idf_calc.transform(test_visual_review['content']).todense())\n",
        "# X_tfidf.columns = idf_calc.vocabulary_\n",
        "# test_tfidf.columns = idf_calc.vocabulary_\n",
        "# X_tfidf"
      ]
    },
    {
      "cell_type": "code",
      "execution_count": 31,
      "metadata": {
        "id": "5K25UrH8fnVF"
      },
      "outputs": [],
      "source": [
        "# print(X_tfidf.shape, test_tfidf.shape)"
      ]
    },
    {
      "cell_type": "markdown",
      "metadata": {
        "id": "HXFxca02cjP1"
      },
      "source": [
        "###Oversampling - Normalize imbalance sentiment"
      ]
    },
    {
      "cell_type": "code",
      "execution_count": 32,
      "metadata": {
        "id": "UgIpFHw6cmAY"
      },
      "outputs": [],
      "source": [
        "from imblearn.pipeline import make_pipeline\n",
        "from imblearn.over_sampling import ADASYN, SMOTE, RandomOverSampler\n",
        "# from imblearn.combine import SMOTEENN, SMOTETomek"
      ]
    },
    {
      "cell_type": "code",
      "execution_count": 33,
      "metadata": {
        "id": "w-qhk-Gmcoh9"
      },
      "outputs": [],
      "source": [
        "ros = RandomOverSampler(random_state=100)\n",
        "sm = SMOTE(sampling_strategy='auto')\n",
        "# se = SMOTETomek(random_state=100)"
      ]
    },
    {
      "cell_type": "code",
      "execution_count": 34,
      "metadata": {
        "colab": {
          "base_uri": "https://localhost:8080/",
          "height": 424
        },
        "id": "onIwLuGd7tul",
        "outputId": "450b5a17-aa59-4914-9d8c-be3eea2cc98a"
      },
      "outputs": [],
      "source": [
        "# x_train_smote, y_train_smote = sm.fit_resample(tfidf_vector, y_train.values)\n",
        "# print(x_train_smote.shape, y_train_smote.shape)\n",
        "\n",
        "# # # SMOTE on full training data\n",
        "# # X_smote, Y_smote = sm.fit_resample(X_tfidf, Y.values)\n",
        "# # print(X_smote.shape, Y_smote.shape)\n",
        "\n",
        "# # Class Imbalance Check\n",
        "# plt.pie(pd.value_counts(y_train_smote), \n",
        "#         labels=['Label 0 (Negative Sentiment)', 'Label 1 (Neutral Sentiment)', 'Label 2 (Positive Sentiment)'], \n",
        "#         autopct='%0.1f%%')\n",
        "# plt.axis('equal')\n",
        "# plt.show()"
      ]
    },
    {
      "cell_type": "code",
      "execution_count": 35,
      "metadata": {
        "colab": {
          "base_uri": "https://localhost:8080/"
        },
        "id": "TUFJjuL-hYyg",
        "outputId": "8d13be0d-f13f-4a12-e31e-d6fc7c603736"
      },
      "outputs": [],
      "source": [
        "# sentimen_visual_counts = pd.Series(y_train_smote).value_counts()\n",
        "# sentimen_visual_counts "
      ]
    },
    {
      "cell_type": "markdown",
      "metadata": {
        "id": "c6VbeoJ1icGP"
      },
      "source": [
        "### Classifier"
      ]
    },
    {
      "cell_type": "code",
      "execution_count": 36,
      "metadata": {
        "id": "utp9ZRlSbBR1"
      },
      "outputs": [],
      "source": [
        "### \n",
        "def train_and_eval(model, trainX, trainY, testX, testY):\n",
        "\n",
        "    # training\n",
        "    _ = model.fit(trainX, trainY)\n",
        "\n",
        "    # predictions\n",
        "    train_and_eval.y_preds_train = model.predict(trainX)\n",
        "    train_and_eval.y_preds_test = model.predict(testX)\n",
        "\n",
        "    # evaluation\n",
        "    print()\n",
        "    print(model)\n",
        "    print(f\"Train accuracy score : {accuracy_score(trainY, train_and_eval.y_preds_train)}\")\n",
        "    print(f\"Test accuracy score : {accuracy_score(testY, train_and_eval.y_preds_test)}\")\n",
        "    print(f\"diff : {accuracy_score(trainY, train_and_eval.y_preds_train) - accuracy_score(testY, train_and_eval.y_preds_test)}\" )\n",
        "    print('\\n',40*'-')"
      ]
    },
    {
      "cell_type": "markdown",
      "metadata": {
        "id": "dyrrfmJ2dKUW"
      },
      "source": [
        "#### Naive Bayes"
      ]
    },
    {
      "cell_type": "code",
      "execution_count": 37,
      "metadata": {
        "colab": {
          "base_uri": "https://localhost:8080/"
        },
        "id": "xwtMagOtfO4a",
        "outputId": "aca2bdc5-9e88-4002-e665-6db88d213c5a"
      },
      "outputs": [
        {
          "name": "stderr",
          "output_type": "stream",
          "text": [
            "d:\\dekstop_app\\python_environment\\mini\\envs\\python_tesis\\Lib\\site-packages\\sklearn\\base.py:432: UserWarning: X has feature names, but MultinomialNB was fitted without feature names\n",
            "  warnings.warn(\n"
          ]
        },
        {
          "name": "stdout",
          "output_type": "stream",
          "text": [
            "\n",
            "MultinomialNB()\n",
            "Train accuracy score : 0.7966885132804415\n",
            "Test accuracy score : 0.7811810154525386\n",
            "diff : 0.01550749782790295\n",
            "\n",
            " ----------------------------------------\n",
            "0.7811810154525386\n"
          ]
        }
      ],
      "source": [
        "# Define model\n",
        "nb_model = naive_bayes.MultinomialNB()\n",
        "    \n",
        "# Train and evaluate model\n",
        "train_and_eval(model=nb_model, \n",
        "              #  param_grid = {},\n",
        "               trainX= tfidf_vector,\n",
        "               trainY= y_train, \n",
        "               testX=tfidf_df_test, \n",
        "               testY=y_test)\n",
        "pred_nb = train_and_eval.y_preds_test\n",
        "best_model_nb = nb_model\n",
        "# best_model_nb = train_and_eval.best_model\n",
        "scores_nb = accuracy_score(y_test, train_and_eval.y_preds_test)\n",
        "# print(best_model_nb)\n",
        "print(scores_nb)"
      ]
    },
    {
      "cell_type": "markdown",
      "metadata": {
        "id": "R3co91yCibb5"
      },
      "source": [
        "####SVM"
      ]
    },
    {
      "cell_type": "code",
      "execution_count": 38,
      "metadata": {
        "id": "30Jan-nlWh1s"
      },
      "outputs": [
        {
          "name": "stderr",
          "output_type": "stream",
          "text": [
            "d:\\dekstop_app\\python_environment\\mini\\envs\\python_tesis\\Lib\\site-packages\\sklearn\\base.py:432: UserWarning: X has feature names, but SVC was fitted without feature names\n",
            "  warnings.warn(\n"
          ]
        },
        {
          "name": "stdout",
          "output_type": "stream",
          "text": [
            "\n",
            "SVC()\n",
            "Train accuracy score : 0.9523283890996895\n",
            "Test accuracy score : 0.8620309050772627\n",
            "diff : 0.09029748402242688\n",
            "\n",
            " ----------------------------------------\n",
            "SVC()\n"
          ]
        }
      ],
      "source": [
        "# # Hyperparameters\n",
        "# C = [1,2,4,5,8,10]\n",
        "# gamma = [0.08, 0.8, 0.5, 0.05, 0.01, 0.1, 1, 10]\n",
        "scores = []\n",
        "models = []\n",
        "\n",
        "# for c in C:\n",
        "#   for g in gamma: \n",
        "svc_model = svm.SVC()\n",
        "    \n",
        "    # Train and evaluate model\n",
        "train_and_eval(model=svc_model, \n",
        "                   trainX=tfidf_vector,\n",
        "                   trainY= y_train,  \n",
        "                   testX=tfidf_df_test, \n",
        "                   testY=y_test)\n",
        "scores.append(accuracy_score(y_test, train_and_eval.y_preds_test))\n",
        "models.append(svc_model)\n",
        "\n",
        "best_index = scores.index(max(scores))\n",
        "best_model = models[best_index]\n",
        "print(best_model)"
      ]
    },
    {
      "cell_type": "code",
      "execution_count": null,
      "metadata": {},
      "outputs": [],
      "source": []
    },
    {
      "cell_type": "code",
      "execution_count": 39,
      "metadata": {
        "colab": {
          "base_uri": "https://localhost:8080/"
        },
        "id": "kfJ-KUk_1qcY",
        "outputId": "e7387929-6009-4eb2-b13f-b019fb6d2806"
      },
      "outputs": [],
      "source": [
        "# best_model = svm.SVC(C = 10, gamma = 1, kernel='rbf', decision_function_shape='ovr')\n",
        "# print(best_model)"
      ]
    },
    {
      "cell_type": "code",
      "execution_count": 40,
      "metadata": {
        "id": "hWzU8cJy3H_h"
      },
      "outputs": [],
      "source": [
        "# with open('/content/drive/MyDrive/Tesis/saved_data/model_saved/best_model_visual_imp.pkl', 'wb') as f:\n",
        "#     pickle.dump(best_model, f)"
      ]
    },
    {
      "cell_type": "code",
      "execution_count": 41,
      "metadata": {},
      "outputs": [
        {
          "name": "stdout",
          "output_type": "stream",
          "text": [
            "SVC()\n"
          ]
        }
      ],
      "source": [
        "print(best_model)"
      ]
    },
    {
      "cell_type": "code",
      "execution_count": 42,
      "metadata": {},
      "outputs": [
        {
          "name": "stderr",
          "output_type": "stream",
          "text": [
            "d:\\dekstop_app\\python_environment\\mini\\envs\\python_tesis\\Lib\\site-packages\\sklearn\\base.py:432: UserWarning: X has feature names, but SVC was fitted without feature names\n",
            "  warnings.warn(\n"
          ]
        },
        {
          "name": "stdout",
          "output_type": "stream",
          "text": [
            "\n",
            "SVC()\n",
            "Train accuracy score : 0.9523283890996895\n",
            "Test accuracy score : 0.8620309050772627\n",
            "diff : 0.09029748402242688\n",
            "\n",
            " ----------------------------------------\n"
          ]
        }
      ],
      "source": [
        "# Train and evaluate model\n",
        "train_and_eval(model=best_model, \n",
        "              #  param_grid = {},\n",
        "               trainX=tfidf_vector,\n",
        "               trainY= y_train, \n",
        "               testX=tfidf_df_test, \n",
        "               testY=y_test)\n",
        "best_y_preds_test = train_and_eval.y_preds_test\n",
        "# best_model_nb = nb_model\n",
        "# best_model_nb = train_and_eval.best_model\n",
        "# scores_nb = accuracy_score(y_test, train_and_eval.y_preds_test)\n",
        "# # print(best_model_nb)\n",
        "# print(scores_nb)"
      ]
    },
    {
      "cell_type": "code",
      "execution_count": 43,
      "metadata": {
        "colab": {
          "base_uri": "https://localhost:8080/"
        },
        "id": "LfpEs1gO2ENm",
        "outputId": "95b7b4a3-28f7-4ac3-d5fa-c3f45714265f"
      },
      "outputs": [],
      "source": [
        "# # training\n",
        "# _ = best_model.fit(tfidf_vector, y_train)\n",
        "\n",
        "# # predictions\n",
        "# best_y_preds_train = best_model.predict(tfidf_vector)\n",
        "# best_y_preds_test = best_model.predict(tfidf_df_test)\n",
        "\n",
        "#     # evaluation\n",
        "# print()\n",
        "# print(best_model)\n",
        "# print(f\"Train accuracy score : {accuracy_score(tfidf_vector, best_y_preds_train)}\")\n",
        "# print(f\"Test accuracy score : {accuracy_score(y_test, best_y_preds_test)}\")\n",
        "# print('\\n',40*'-')"
      ]
    },
    {
      "cell_type": "markdown",
      "metadata": {
        "id": "cHHB7cQ9Nk25"
      },
      "source": [
        "#####Sample predict with data test"
      ]
    },
    {
      "cell_type": "code",
      "execution_count": 44,
      "metadata": {
        "colab": {
          "base_uri": "https://localhost:8080/"
        },
        "id": "BnMsAJdnZvCx",
        "outputId": "6d577f61-bd11-4986-816a-7012db81b93a"
      },
      "outputs": [],
      "source": [
        "# original_text = idf_calc.inverse_transform(tfidf_df_test)\n",
        "# len(original_text)"
      ]
    },
    {
      "cell_type": "code",
      "execution_count": 45,
      "metadata": {
        "id": "beEdjLHYZZfy"
      },
      "outputs": [],
      "source": [
        "# content_test = []\n",
        "# for row in original_text:\n",
        "#     content_list = ' '.join(row)\n",
        "#     content_test.append(content_list)"
      ]
    },
    {
      "cell_type": "code",
      "execution_count": 46,
      "metadata": {
        "id": "Gz_Pvc6V_yNe"
      },
      "outputs": [],
      "source": [
        "# df_predict_review_game = pd.DataFrame({'Content':content_test,'Sentiment':y_test, 'Predict Sentiment':best_y_preds_test})"
      ]
    },
    {
      "cell_type": "code",
      "execution_count": 47,
      "metadata": {
        "colab": {
          "base_uri": "https://localhost:8080/",
          "height": 423
        },
        "id": "nuFwJ57aA1_k",
        "outputId": "4ad4f73c-5d28-4522-c3df-1538370b85c5"
      },
      "outputs": [],
      "source": [
        "# df_predict_review_game"
      ]
    },
    {
      "cell_type": "code",
      "execution_count": 48,
      "metadata": {
        "id": "p1TQwo6ASgfz"
      },
      "outputs": [],
      "source": [
        "# df_predict_review_game.to_csv(r'/content/drive/MyDrive/Tesis/saved_data/data_predict_visual.csv', index=False, header=True)"
      ]
    },
    {
      "cell_type": "markdown",
      "metadata": {
        "id": "_F0B3ah13zwo"
      },
      "source": [
        "##### predict for all data in aspect"
      ]
    },
    {
      "cell_type": "code",
      "execution_count": 49,
      "metadata": {
        "colab": {
          "base_uri": "https://localhost:8080/",
          "height": 242
        },
        "id": "1yHZ2_aO-pT5",
        "outputId": "faf81308-9c35-4f1d-d2e9-4d3aa96e103d"
      },
      "outputs": [],
      "source": [
        "# best_model_all.fit(X_smote, Y_smote)\n",
        "# predictions = best_model_all.predict(test_tfidf)\n",
        "# submission = pd.DataFrame({'content': test_visual_review.content, 'label':predictions})\n",
        "# submission.head()"
      ]
    },
    {
      "cell_type": "code",
      "execution_count": 50,
      "metadata": {
        "id": "VFeq4sBuJ3qc"
      },
      "outputs": [],
      "source": [
        "# submission.to_csv('Submission.csv', index=False)\n",
        "# print('Submission is successful!')"
      ]
    },
    {
      "cell_type": "markdown",
      "metadata": {
        "id": "ijBzchtLAXNE"
      },
      "source": [
        "### Validation K-Fold Cross"
      ]
    },
    {
      "cell_type": "markdown",
      "metadata": {
        "id": "VsMjqgQHiI0X"
      },
      "source": [
        "####NB validation"
      ]
    },
    {
      "cell_type": "code",
      "execution_count": 51,
      "metadata": {
        "colab": {
          "base_uri": "https://localhost:8080/"
        },
        "id": "ay4rw_eiieVh",
        "outputId": "67ea00ca-fb04-43d3-b608-e417d5606a70"
      },
      "outputs": [],
      "source": [
        "# # create pipeline\n",
        "# pipeline_nb = Pipeline(steps=[('model', best_model_nb)])\n",
        "\n",
        "# # perform cross validation\n",
        "# scoresY = cross_val_score(estimator=pipeline_nb, \n",
        "#                          X=TF_vector, \n",
        "#                          y=y_train, \n",
        "#                          scoring='accuracy', \n",
        "#                          cv=10,\n",
        "#                          n_jobs=-1) \n",
        "# scoresY"
      ]
    },
    {
      "cell_type": "code",
      "execution_count": 52,
      "metadata": {
        "colab": {
          "base_uri": "https://localhost:8080/"
        },
        "id": "3koGjx95iiGR",
        "outputId": "9738fc66-5314-4088-c239-49cddd111a1a"
      },
      "outputs": [
        {
          "data": {
            "text/plain": [
              "array([0.78371852, 0.78302863, 0.78440842, 0.78406347, 0.78509831])"
            ]
          },
          "execution_count": 52,
          "metadata": {},
          "output_type": "execute_result"
        }
      ],
      "source": [
        "# create pipeline\n",
        "pipeline_nb = Pipeline(steps=[('model', best_model_nb)])\n",
        "\n",
        "# perform cross validation\n",
        "scoresY = cross_val_score(estimator=pipeline_nb, \n",
        "                         X=tfidf_vector, \n",
        "                         y=y_train, \n",
        "                         scoring='accuracy', \n",
        "                         cv=5,\n",
        "                         n_jobs=-1) \n",
        "scoresY"
      ]
    },
    {
      "cell_type": "markdown",
      "metadata": {
        "id": "zxaTX1NPiuF2"
      },
      "source": [
        "####SVM validation"
      ]
    },
    {
      "cell_type": "code",
      "execution_count": 53,
      "metadata": {
        "colab": {
          "base_uri": "https://localhost:8080/"
        },
        "id": "fm5yRbB0AW9G",
        "outputId": "dbe413f1-98e9-4f91-a627-79ece5804c3c"
      },
      "outputs": [
        {
          "data": {
            "text/plain": [
              "array([0.8537931 , 0.85724138, 0.85310345, 0.85310345, 0.84275862,\n",
              "       0.8447205 , 0.85576259, 0.83712905, 0.85576259, 0.83919945])"
            ]
          },
          "execution_count": 53,
          "metadata": {},
          "output_type": "execute_result"
        }
      ],
      "source": [
        "# create pipeline\n",
        "pipeline = Pipeline(steps=[('model', best_model)])\n",
        "\n",
        "# perform cross validation\n",
        "scores = cross_val_score(estimator=pipeline, \n",
        "                         X=tfidf_vector, \n",
        "                         y=y_train, \n",
        "                         scoring='accuracy', \n",
        "                         cv=10,\n",
        "                         n_jobs=-1) \n",
        "scores"
      ]
    },
    {
      "cell_type": "code",
      "execution_count": 54,
      "metadata": {
        "colab": {
          "base_uri": "https://localhost:8080/"
        },
        "id": "lJJWH8mDT4Qc",
        "outputId": "be11f2ec-46ee-4005-8577-2f6130392b02"
      },
      "outputs": [
        {
          "data": {
            "text/plain": [
              "array([0.85270783, 0.85132804, 0.85443256, 0.84787858, 0.84787858])"
            ]
          },
          "execution_count": 54,
          "metadata": {},
          "output_type": "execute_result"
        }
      ],
      "source": [
        "# create pipeline\n",
        "pipeline = Pipeline(steps=[('model', best_model)])\n",
        "\n",
        "# perform cross validation\n",
        "scoresX = cross_val_score(estimator=pipeline, \n",
        "                         X=TF_vector, \n",
        "                         y=y_train, \n",
        "                         scoring='accuracy', \n",
        "                         cv=5,\n",
        "                         n_jobs=-1) \n",
        "scoresX\n"
      ]
    },
    {
      "cell_type": "markdown",
      "metadata": {
        "id": "zs730GiF6uxf"
      },
      "source": [
        "### Evaluation"
      ]
    },
    {
      "cell_type": "markdown",
      "metadata": {
        "id": "OP5XoslHARdj"
      },
      "source": [
        "#### Confusion Matrix NB"
      ]
    },
    {
      "cell_type": "code",
      "execution_count": 55,
      "metadata": {
        "colab": {
          "base_uri": "https://localhost:8080/"
        },
        "id": "NJoTSjT9MNwr",
        "outputId": "fb08e125-db96-4f7f-a8f3-984edb854556"
      },
      "outputs": [
        {
          "name": "stdout",
          "output_type": "stream",
          "text": [
            "Accuracy:  0.7811810154525386\n",
            "Recall (all 1s predicted right): 0.7812\n",
            "Precision (confidence when predicting a 1): 0.7438\n",
            "F1-score:  0.7621\n",
            "Detail:\n",
            "              precision    recall  f1-score   support\n",
            "\n",
            "           0       0.67      0.00      0.01       727\n",
            "           1       0.00      0.00      0.00        67\n",
            "           2       0.78      1.00      0.88      2830\n",
            "\n",
            "    accuracy                           0.78      3624\n",
            "   macro avg       0.48      0.33      0.29      3624\n",
            "weighted avg       0.74      0.78      0.69      3624\n",
            "\n"
          ]
        },
        {
          "name": "stderr",
          "output_type": "stream",
          "text": [
            "d:\\dekstop_app\\python_environment\\mini\\envs\\python_tesis\\Lib\\site-packages\\sklearn\\metrics\\_classification.py:1344: UndefinedMetricWarning: Precision is ill-defined and being set to 0.0 in labels with no predicted samples. Use `zero_division` parameter to control this behavior.\n",
            "  _warn_prf(average, modifier, msg_start, len(result))\n",
            "d:\\dekstop_app\\python_environment\\mini\\envs\\python_tesis\\Lib\\site-packages\\sklearn\\metrics\\_classification.py:1344: UndefinedMetricWarning: Precision and F-score are ill-defined and being set to 0.0 in labels with no predicted samples. Use `zero_division` parameter to control this behavior.\n",
            "  _warn_prf(average, modifier, msg_start, len(result))\n",
            "d:\\dekstop_app\\python_environment\\mini\\envs\\python_tesis\\Lib\\site-packages\\sklearn\\metrics\\_classification.py:1344: UndefinedMetricWarning: Precision and F-score are ill-defined and being set to 0.0 in labels with no predicted samples. Use `zero_division` parameter to control this behavior.\n",
            "  _warn_prf(average, modifier, msg_start, len(result))\n",
            "d:\\dekstop_app\\python_environment\\mini\\envs\\python_tesis\\Lib\\site-packages\\sklearn\\metrics\\_classification.py:1344: UndefinedMetricWarning: Precision and F-score are ill-defined and being set to 0.0 in labels with no predicted samples. Use `zero_division` parameter to control this behavior.\n",
            "  _warn_prf(average, modifier, msg_start, len(result))\n"
          ]
        }
      ],
      "source": [
        "from sklearn import metrics\n",
        "import numpy as np\n",
        "accuracy_nb = metrics.accuracy_score(y_test, pred_nb)\n",
        "\n",
        "\n",
        "\n",
        "## Precision e Recall\n",
        "recall_nb = metrics.recall_score(y_test, pred_nb, average='weighted')\n",
        "precision_nb = metrics.precision_score(y_test, pred_nb, average='weighted')\n",
        "f1_nb = 2 * (precision_nb*recall_nb)/(precision_nb + recall_nb)\n",
        "print(\"Accuracy: \", accuracy_nb)\n",
        "print(\"Recall (all 1s predicted right):\", round(recall_nb,4))\n",
        "print(\"Precision (confidence when predicting a 1):\", round(precision_nb,4))\n",
        "print(\"F1-score: \", round(f1_nb,4))\n",
        "print(\"Detail:\")\n",
        "print(metrics.classification_report(y_test, pred_nb, target_names=[str(i) for i in np.unique(y_test)]))"
      ]
    },
    {
      "cell_type": "code",
      "execution_count": 56,
      "metadata": {
        "colab": {
          "base_uri": "https://localhost:8080/"
        },
        "id": "QDmNJzE_rTqj",
        "outputId": "b73d1f45-619b-4721-e3c8-b8c1ff02caf4"
      },
      "outputs": [
        {
          "name": "stdout",
          "output_type": "stream",
          "text": [
            "AUC-ROC rata-rata: 0.5007618969600435\n"
          ]
        }
      ],
      "source": [
        "from sklearn.metrics import roc_auc_score\n",
        "from sklearn.preprocessing import LabelBinarizer\n",
        "\n",
        "lb = LabelBinarizer()\n",
        "lb.fit(y_test)\n",
        "\n",
        "y_true_bin = lb.transform(y_test)\n",
        "y_preds_bin = lb.transform(pred_nb)\n",
        "\n",
        "n_classes = y_true_bin.shape[1]\n",
        "roc_auc = dict()\n",
        "for i in range(n_classes):\n",
        "    roc_auc[i] = roc_auc_score(y_true_bin[:, i], y_preds_bin[:, i])\n",
        "\n",
        "# hitung rata-rata AUC-ROC untuk semua kelas\n",
        "mean_auc = sum(roc_auc.values()) / n_classes\n",
        "print(\"AUC-ROC rata-rata:\", mean_auc)"
      ]
    },
    {
      "cell_type": "code",
      "execution_count": 57,
      "metadata": {
        "colab": {
          "base_uri": "https://localhost:8080/",
          "height": 472
        },
        "id": "3nEc_moOMTCj",
        "outputId": "fe5c4017-eea6-45ab-cd5a-7dcc24b39ce8"
      },
      "outputs": [
        {
          "data": {
            "image/png": "[encoded data removed]",
            "text/plain": [
              "<Figure size 640x480 with 1 Axes>"
            ]
          },
          "metadata": {},
          "output_type": "display_data"
        }
      ],
      "source": [
        "classes = np.unique(y_test)\n",
        "fig, ax = plt.subplots()\n",
        "cm = metrics.confusion_matrix(y_test, pred_nb, labels=classes)\n",
        "sns.heatmap(cm, annot=True, fmt='d', cmap=plt.cm.Blues, cbar=False)\n",
        "ax.set(xlabel=\"Prediction\", ylabel=\"Actual\", title=\"Confusion matrix\")\n",
        "ax.set_yticklabels(labels=classes, rotation=0)\n",
        "plt.show()"
      ]
    },
    {
      "cell_type": "markdown",
      "metadata": {
        "id": "bfUK2OynMOmE"
      },
      "source": [
        "#### Confusion Matrix SVM"
      ]
    },
    {
      "cell_type": "code",
      "execution_count": 58,
      "metadata": {
        "colab": {
          "base_uri": "https://localhost:8080/"
        },
        "id": "YCIJUPeMMVum",
        "outputId": "99f533e4-3ced-488a-b6fc-e96eb869c648"
      },
      "outputs": [
        {
          "name": "stdout",
          "output_type": "stream",
          "text": [
            "Accuracy:  0.8620309050772627\n",
            "Recall (all 1s predicted right): 0.862\n",
            "Precision (confidence when predicting a 1): 0.8405\n",
            "F1-score:  0.8511\n",
            "Detail:\n",
            "              precision    recall  f1-score   support\n",
            "\n",
            "           0       0.79      0.53      0.63       727\n",
            "           1       0.00      0.00      0.00        67\n",
            "           2       0.87      0.97      0.92      2830\n",
            "\n",
            "    accuracy                           0.86      3624\n",
            "   macro avg       0.56      0.50      0.52      3624\n",
            "weighted avg       0.84      0.86      0.84      3624\n",
            "\n"
          ]
        },
        {
          "name": "stderr",
          "output_type": "stream",
          "text": [
            "d:\\dekstop_app\\python_environment\\mini\\envs\\python_tesis\\Lib\\site-packages\\sklearn\\metrics\\_classification.py:1344: UndefinedMetricWarning: Precision is ill-defined and being set to 0.0 in labels with no predicted samples. Use `zero_division` parameter to control this behavior.\n",
            "  _warn_prf(average, modifier, msg_start, len(result))\n",
            "d:\\dekstop_app\\python_environment\\mini\\envs\\python_tesis\\Lib\\site-packages\\sklearn\\metrics\\_classification.py:1344: UndefinedMetricWarning: Precision and F-score are ill-defined and being set to 0.0 in labels with no predicted samples. Use `zero_division` parameter to control this behavior.\n",
            "  _warn_prf(average, modifier, msg_start, len(result))\n",
            "d:\\dekstop_app\\python_environment\\mini\\envs\\python_tesis\\Lib\\site-packages\\sklearn\\metrics\\_classification.py:1344: UndefinedMetricWarning: Precision and F-score are ill-defined and being set to 0.0 in labels with no predicted samples. Use `zero_division` parameter to control this behavior.\n",
            "  _warn_prf(average, modifier, msg_start, len(result))\n",
            "d:\\dekstop_app\\python_environment\\mini\\envs\\python_tesis\\Lib\\site-packages\\sklearn\\metrics\\_classification.py:1344: UndefinedMetricWarning: Precision and F-score are ill-defined and being set to 0.0 in labels with no predicted samples. Use `zero_division` parameter to control this behavior.\n",
            "  _warn_prf(average, modifier, msg_start, len(result))\n"
          ]
        }
      ],
      "source": [
        "# best_y_preds_test = best_model.predict(x_test)\n",
        "accuracy = metrics.accuracy_score(y_test, best_y_preds_test)\n",
        "\n",
        "\n",
        "## Precision e Recall\n",
        "\n",
        "recall = metrics.recall_score(y_test, best_y_preds_test, average='weighted')\n",
        "precision = metrics.precision_score(y_test, best_y_preds_test, average='weighted')\n",
        "f1 = 2 * (precision*recall)/(precision + recall)\n",
        "print(\"Accuracy: \", accuracy)\n",
        "print(\"Recall (all 1s predicted right):\", round(recall,4))\n",
        "print(\"Precision (confidence when predicting a 1):\", round(precision,4))\n",
        "print(\"F1-score: \", round(f1,4))\n",
        "print(\"Detail:\")\n",
        "print(metrics.classification_report(y_test, best_y_preds_test, target_names=[str(i) for i in np.unique(y_test)]))"
      ]
    },
    {
      "cell_type": "code",
      "execution_count": 59,
      "metadata": {
        "colab": {
          "base_uri": "https://localhost:8080/"
        },
        "id": "_WwybU9SltTc",
        "outputId": "8dbc2fca-5d9a-4d63-add7-e9d765536cb9"
      },
      "outputs": [],
      "source": [
        "# print(best_y_preds_test)"
      ]
    },
    {
      "cell_type": "code",
      "execution_count": 60,
      "metadata": {
        "colab": {
          "base_uri": "https://localhost:8080/"
        },
        "id": "5ChwUMR2kpqb",
        "outputId": "0a55d02e-ef5e-40fc-dbd7-2a673325e504"
      },
      "outputs": [
        {
          "name": "stdout",
          "output_type": "stream",
          "text": [
            "AUC-ROC rata-rata: 0.6600059282204964\n"
          ]
        }
      ],
      "source": [
        "from sklearn.metrics import roc_auc_score\n",
        "from sklearn.preprocessing import LabelBinarizer\n",
        "\n",
        "lb = LabelBinarizer()\n",
        "lb.fit(y_test)\n",
        "\n",
        "y_true_bin = lb.transform(y_test)\n",
        "y_preds_bin = lb.transform(best_y_preds_test)\n",
        "\n",
        "n_classes = y_true_bin.shape[1]\n",
        "roc_auc = dict()\n",
        "for i in range(n_classes):\n",
        "    roc_auc[i] = roc_auc_score(y_true_bin[:, i], y_preds_bin[:, i])\n",
        "\n",
        "# hitung rata-rata AUC-ROC untuk semua kelas\n",
        "mean_auc = sum(roc_auc.values()) / n_classes\n",
        "print(\"AUC-ROC rata-rata:\", mean_auc)"
      ]
    },
    {
      "cell_type": "code",
      "execution_count": 61,
      "metadata": {
        "colab": {
          "base_uri": "https://localhost:8080/",
          "height": 472
        },
        "id": "npXmMPMFMWxr",
        "outputId": "0b54b669-355a-4446-f869-a1bcaf289d89"
      },
      "outputs": [
        {
          "data": {
            "image/png": "[encoded data removed]",
            "text/plain": [
              "<Figure size 640x480 with 1 Axes>"
            ]
          },
          "metadata": {},
          "output_type": "display_data"
        }
      ],
      "source": [
        "classes = np.unique(y_test)\n",
        "fig, ax = plt.subplots()\n",
        "cm = metrics.confusion_matrix(y_test, best_y_preds_test, labels=classes)\n",
        "sns.heatmap(cm, annot=True, fmt='d', cmap=plt.cm.Blues, cbar=False)\n",
        "ax.set(xlabel=\"Prediction\", ylabel=\"Actual\", title=\"Confusion matrix\")\n",
        "ax.set_yticklabels(labels=classes, rotation=0)\n",
        "plt.show()"
      ]
    },
    {
      "cell_type": "code",
      "execution_count": 62,
      "metadata": {
        "id": "RaB0H6-nnycw"
      },
      "outputs": [],
      "source": [
        "# print(classification_report(y_test, best_y_preds_test))"
      ]
    },
    {
      "cell_type": "code",
      "execution_count": 63,
      "metadata": {
        "id": "b7WEMTWvXwQE"
      },
      "outputs": [],
      "source": [
        "# def plot_cm(y_true, y_pred):\n",
        "#     #Plotting the confusion matrix\n",
        "#     plt.figure(figsize=(5,4))\n",
        "    \n",
        "#     cm = confusion_matrix(y_true, y_pred, normalize='true')\n",
        "#     sns.heatmap(cm, annot=True)\n",
        "#     plt.title('Confusion Matrix')\n",
        "#     plt.ylabel('Actal Values')\n",
        "#     plt.xlabel('Predicted Values')\n",
        "#     plt.show()\n",
        "#     return plt.show()"
      ]
    },
    {
      "cell_type": "code",
      "execution_count": 64,
      "metadata": {
        "id": "cp2og46mcgme"
      },
      "outputs": [],
      "source": [
        "# from sklearn import metrics\n",
        "# import numpy as np"
      ]
    },
    {
      "cell_type": "code",
      "execution_count": 65,
      "metadata": {
        "id": "JTSfQUUhaNtI"
      },
      "outputs": [],
      "source": [
        "# from sklearn import metrics\n",
        "\n",
        "# best_y_preds_test = best_model.predict(x_test)\n",
        "# accuracy = metrics.accuracy_score(y_test, best_y_preds_test)\n",
        "\n",
        "\n",
        "\n",
        "# ## Precision e Recall\n",
        "# recall = metrics.recall_score(y_test, best_y_preds_test, average='weighted')\n",
        "# precision = metrics.precision_score(y_test, best_y_preds_test, average='weighted')\n",
        "# print(\"Recall (all 1s predicted right):\", round(recall,2))\n",
        "# print(\"Precision (confidence when predicting a 1):\", round(precision,2))\n",
        "# print(\"Detail:\")\n",
        "# print(metrics.classification_report(y_test, best_y_preds_test, target_names=[str(i) for i in np.unique(y_test)]))"
      ]
    },
    {
      "cell_type": "code",
      "execution_count": 66,
      "metadata": {
        "id": "XNBTgCdlgOuY"
      },
      "outputs": [],
      "source": [
        "# classes = np.unique(y_test)\n",
        "# fig, ax = plt.subplots()\n",
        "# cm = metrics.confusion_matrix(y_test, best_y_preds_test, labels=classes)\n",
        "# sns.heatmap(cm, annot=True, fmt='d', cmap=plt.cm.Blues, cbar=False)\n",
        "# ax.set(xlabel=\"Prediction\", ylabel=\"Actual\", title=\"Confusion matrix\")\n",
        "# ax.set_yticklabels(labels=classes, rotation=0)\n",
        "# plt.show()"
      ]
    },
    {
      "cell_type": "code",
      "execution_count": 67,
      "metadata": {
        "id": "9g3Bf73f4ds6"
      },
      "outputs": [],
      "source": [
        "# from sklearn.metrics import multilabel_confusion_matrix"
      ]
    },
    {
      "cell_type": "code",
      "execution_count": 68,
      "metadata": {
        "id": "q4uFg8YZn8ZX"
      },
      "outputs": [],
      "source": [
        "# plot_cm(y_test, best_y_preds_test)"
      ]
    }
  ],
  "metadata": {
    "colab": {
      "provenance": [],
      "toc_visible": true
    },
    "kernelspec": {
      "display_name": "Python 3",
      "language": "python",
      "name": "python3"
    },
    "language_info": {
      "codemirror_mode": {
        "name": "ipython",
        "version": 3
      },
      "file_extension": ".py",
      "mimetype": "text/x-python",
      "name": "python",
      "nbconvert_exporter": "python",
      "pygments_lexer": "ipython3",
      "version": "3.11.0"
    },
    "vscode": {
      "interpreter": {
        "hash": "c261aea317cc0286b3b3261fbba9abdec21eaa57589985bb7a274bf54d6cc0a7"
      }
    }
  },
  "nbformat": 4,
  "nbformat_minor": 0
}
